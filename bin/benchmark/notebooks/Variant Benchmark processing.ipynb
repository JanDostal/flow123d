{
 "cells": [
  {
   "cell_type": "code",
   "execution_count": 4,
   "id": "65c09190-34d9-42be-818f-9f270ccc0955",
   "metadata": {},
   "outputs": [
    {
     "ename": "NameError",
     "evalue": "name 'code_map' is not defined",
     "output_type": "error",
     "traceback": [
      "\u001b[0;31m---------------------------------------------------------------------------\u001b[0m",
      "\u001b[0;31mNameError\u001b[0m                                 Traceback (most recent call last)",
      "Cell \u001b[0;32mIn[4], line 44\u001b[0m\n\u001b[1;32m     41\u001b[0m n_runs \u001b[38;5;241m=\u001b[39m \u001b[38;5;241m3\u001b[39m\n\u001b[1;32m     43\u001b[0m \u001b[38;5;66;03m# load and process JSON\u001b[39;00m\n\u001b[0;32m---> 44\u001b[0m df \u001b[38;5;241m=\u001b[39m \u001b[43mread_table\u001b[49m\u001b[43m(\u001b[49m\u001b[43minput_profiler_file\u001b[49m\u001b[43m,\u001b[49m\u001b[43m \u001b[49m\u001b[43mn_runs\u001b[49m\u001b[43m)\u001b[49m\n\u001b[1;32m     46\u001b[0m display(df)\n",
      "Cell \u001b[0;32mIn[4], line 35\u001b[0m, in \u001b[0;36mread_table\u001b[0;34m(fpath, program_params)\u001b[0m\n\u001b[1;32m     32\u001b[0m df\u001b[38;5;241m.\u001b[39mdrop(columns\u001b[38;5;241m=\u001b[39m[\u001b[38;5;124m'\u001b[39m\u001b[38;5;124mn_repeats\u001b[39m\u001b[38;5;124m'\u001b[39m, \u001b[38;5;124m'\u001b[39m\u001b[38;5;124massembly_class\u001b[39m\u001b[38;5;124m'\u001b[39m,], inplace\u001b[38;5;241m=\u001b[39m\u001b[38;5;28;01mTrue\u001b[39;00m)\n\u001b[1;32m     33\u001b[0m df\u001b[38;5;241m.\u001b[39mset_index([\u001b[38;5;124m'\u001b[39m\u001b[38;5;124mcommit\u001b[39m\u001b[38;5;124m'\u001b[39m, \u001b[38;5;124m'\u001b[39m\u001b[38;5;124mspacedim\u001b[39m\u001b[38;5;124m'\u001b[39m, \u001b[38;5;124m'\u001b[39m\u001b[38;5;124mdomain_shape\u001b[39m\u001b[38;5;124m'\u001b[39m, \u001b[38;5;124m'\u001b[39m\u001b[38;5;124muniformity\u001b[39m\u001b[38;5;124m'\u001b[39m,  \u001b[38;5;124m'\u001b[39m\u001b[38;5;124mmesh_size\u001b[39m\u001b[38;5;124m'\u001b[39m, \u001b[38;5;124m'\u001b[39m\u001b[38;5;124mrun_id\u001b[39m\u001b[38;5;124m'\u001b[39m], inplace\u001b[38;5;241m=\u001b[39m\u001b[38;5;28;01mTrue\u001b[39;00m)\n\u001b[0;32m---> 35\u001b[0m \u001b[43mcode_map\u001b[49m[\u001b[38;5;124m'\u001b[39m\u001b[38;5;124m'\u001b[39m]\n\u001b[1;32m     36\u001b[0m df[\u001b[38;5;124m'\u001b[39m\u001b[38;5;124mcode\u001b[39m\u001b[38;5;124m'\u001b[39m] \u001b[38;5;241m=\u001b[39m [code_map[av] \u001b[38;5;28;01mfor\u001b[39;00m av \u001b[38;5;129;01min\u001b[39;00m df[\u001b[38;5;124m'\u001b[39m\u001b[38;5;124massembly_variant\u001b[39m\u001b[38;5;124m'\u001b[39m]]\n\u001b[1;32m     37\u001b[0m \u001b[38;5;28;01mreturn\u001b[39;00m df\n",
      "\u001b[0;31mNameError\u001b[0m: name 'code_map' is not defined"
     ]
    }
   ],
   "source": [
    "import os\n",
    "import sys\n",
    "module_path = os.path.abspath(os.path.join('..'))\n",
    "if module_path not in sys.path:\n",
    "    sys.path.append(module_path)\n",
    "\n",
    "import pandas as pd\n",
    "import numpy as np\n",
    "import dg_asm_bench_postprocess as bp\n",
    "\n",
    "def read_table(fpath, program_params):\n",
    "    \"\"\"\n",
    "    Read the file, define columns translate to the xarray.\n",
    "    Original columns:\n",
    "    commit, \n",
    "    run_id, \n",
    "    domain_shape, uniformity->mesh_size, spacedim, mesh_size->uniformity, \n",
    "     \n",
    "    field_variant, assembly_variant, assembly_class, integral_type,\n",
    "    tag,  time, n_repeats,\n",
    "    time_fraction, time_fraction_of_reminder\n",
    "    \"\"\"\n",
    "    df = bp.load_profiler_data(fpath, program_params)\n",
    "    \n",
    "    df['n_mesh_elements'] = [int(n) for n in df['n_mesh_elements']]\n",
    "    df['number_of_calls'] = [int(n) for n in df['number_of_calls']]\n",
    "    \n",
    "    # add calls\n",
    "    #df['n_calls'] = 1\n",
    "    \n",
    "    # remove columns, set index\n",
    "    df.drop(columns=['n_repeats', 'assembly_class',], inplace=True)\n",
    "    df.set_index(['commit', 'spacedim', 'domain_shape', 'uniformity',  'mesh_size', 'run_id'], inplace=True)\n",
    "    \n",
    "    #code_map['']\n",
    "    #df['code'] = [code_map[av] for av in df['assembly_variant']]\n",
    "    return df\n",
    "\n",
    "# Set name of profiler file and number of runs here\n",
    "input_profiler_file = '../dg_asm-1-bench_profiler'\n",
    "n_runs = 3\n",
    "\n",
    "# load and process JSON\n",
    "df = read_table(input_profiler_file, n_runs)\n",
    "\n",
    "display(df)\n"
   ]
  },
  {
   "cell_type": "code",
   "execution_count": null,
   "id": "8595243b-d481-45a5-b6e9-a6290e0e164d",
   "metadata": {},
   "outputs": [],
   "source": []
  }
 ],
 "metadata": {
  "kernelspec": {
   "display_name": "Python 3 (ipykernel)",
   "language": "python",
   "name": "python3"
  },
  "language_info": {
   "codemirror_mode": {
    "name": "ipython",
    "version": 3
   },
   "file_extension": ".py",
   "mimetype": "text/x-python",
   "name": "python",
   "nbconvert_exporter": "python",
   "pygments_lexer": "ipython3",
   "version": "3.10.8"
  }
 },
 "nbformat": 4,
 "nbformat_minor": 5
}
